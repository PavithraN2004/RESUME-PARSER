{
  "nbformat": 4,
  "nbformat_minor": 0,
  "metadata": {
    "colab": {
      "provenance": []
    },
    "kernelspec": {
      "name": "python3",
      "display_name": "Python 3"
    },
    "language_info": {
      "name": "python"
    }
  },
  "cells": [
    {
      "cell_type": "code",
      "execution_count": 8,
      "metadata": {
        "id": "oeyLgjgmjBEq"
      },
      "outputs": [],
      "source": [
        "import spacy\n",
        "import pickle\n",
        "import random"
      ]
    },
    {
      "cell_type": "code",
      "source": [
        "train_data = pickle.load(open('/content/train_data.pkl', 'rb'))\n",
        "train_data[0]"
      ],
      "metadata": {
        "colab": {
          "base_uri": "https://localhost:8080/"
        },
        "id": "wx2TAc1s8jn8",
        "outputId": "aa317117-3b84-4d7f-e08c-053d7e635faf"
      },
      "execution_count": 10,
      "outputs": [
        {
          "output_type": "execute_result",
          "data": {
            "text/plain": [
              "('Govardhana K Senior Software Engineer  Bengaluru, Karnataka, Karnataka - Email me on Indeed: indeed.com/r/Govardhana-K/ b2de315d95905b68  Total IT experience 5 Years 6 Months Cloud Lending Solutions INC 4 Month • Salesforce Developer Oracle 5 Years 2 Month • Core Java Developer Languages Core Java, Go Lang Oracle PL-SQL programming, Sales Force Developer with APEX.  Designations & Promotions  Willing to relocate: Anywhere  WORK EXPERIENCE  Senior Software Engineer  Cloud Lending Solutions -  Bangalore, Karnataka -  January 2018 to Present  Present  Senior Consultant  Oracle -  Bangalore, Karnataka -  November 2016 to December 2017  Staff Consultant  Oracle -  Bangalore, Karnataka -  January 2014 to October 2016  Associate Consultant  Oracle -  Bangalore, Karnataka -  November 2012 to December 2013  EDUCATION  B.E in Computer Science Engineering  Adithya Institute of Technology -  Tamil Nadu  September 2008 to June 2012  https://www.indeed.com/r/Govardhana-K/b2de315d95905b68?isid=rex-download&ikw=download-top&co=IN https://www.indeed.com/r/Govardhana-K/b2de315d95905b68?isid=rex-download&ikw=download-top&co=IN   SKILLS  APEX. (Less than 1 year), Data Structures (3 years), FLEXCUBE (5 years), Oracle (5 years), Algorithms (3 years)  LINKS  https://www.linkedin.com/in/govardhana-k-61024944/  ADDITIONAL INFORMATION  Technical Proficiency:  Languages: Core Java, Go Lang, Data Structures & Algorithms, Oracle PL-SQL programming, Sales Force with APEX. Tools: RADTool, Jdeveloper, NetBeans, Eclipse, SQL developer, PL/SQL Developer, WinSCP, Putty Web Technologies: JavaScript, XML, HTML, Webservice  Operating Systems: Linux, Windows Version control system SVN & Git-Hub Databases: Oracle Middleware: Web logic, OC4J Product FLEXCUBE: Oracle FLEXCUBE Versions 10.x, 11.x and 12.x  https://www.linkedin.com/in/govardhana-k-61024944/',\n",
              " {'entities': [(1749, 1755, 'Companies worked at'),\n",
              "   (1696, 1702, 'Companies worked at'),\n",
              "   (1417, 1423, 'Companies worked at'),\n",
              "   (1356, 1793, 'Skills'),\n",
              "   (1209, 1215, 'Companies worked at'),\n",
              "   (1136, 1248, 'Skills'),\n",
              "   (928, 932, 'Graduation Year'),\n",
              "   (858, 889, 'College Name'),\n",
              "   (821, 856, 'Degree'),\n",
              "   (787, 791, 'Graduation Year'),\n",
              "   (744, 750, 'Companies worked at'),\n",
              "   (722, 742, 'Designation'),\n",
              "   (658, 664, 'Companies worked at'),\n",
              "   (640, 656, 'Designation'),\n",
              "   (574, 580, 'Companies worked at'),\n",
              "   (555, 573, 'Designation'),\n",
              "   (470, 493, 'Companies worked at'),\n",
              "   (444, 469, 'Designation'),\n",
              "   (308, 314, 'Companies worked at'),\n",
              "   (234, 240, 'Companies worked at'),\n",
              "   (175, 198, 'Companies worked at'),\n",
              "   (93, 137, 'Email Address'),\n",
              "   (39, 48, 'Location'),\n",
              "   (13, 38, 'Designation'),\n",
              "   (0, 12, 'Name')]})"
            ]
          },
          "metadata": {},
          "execution_count": 10
        }
      ]
    },
    {
      "cell_type": "code",
      "source": [
        "nlp = spacy.blank('en')\n",
        "\n",
        "def train_model(train_data):\n",
        "    if 'ner' not in nlp.pipe_names:\n",
        "        ner = nlp.create_pipe('ner')\n",
        "        nlp.add_pipe('ner', last = True)\n",
        "\n",
        "    for _, annotation in train_data:\n",
        "        for ent in annotation['entities']:\n",
        "            ner.add_label(ent[2])\n",
        "\n",
        "\n",
        "    other_pipes = [pipe for pipe in nlp.pipe_names if pipe != 'ner']\n",
        "    with nlp.disable_pipes(*other_pipes):  # only train NER\n",
        "        optimizer = nlp.begin_training()\n",
        "        for itn in range(10):\n",
        "            print(\"Statring iteration \" + str(itn))\n",
        "            random.shuffle(train_data)\n",
        "            losses = {}\n",
        "            index = 0\n",
        "            for text, annotations in train_data:\n",
        "                try:\n",
        "                    nlp.update(\n",
        "                        [text],  # batch of texts\n",
        "                        [annotations],  # batch of annotations\n",
        "                        drop=0.2,  # dropout - make it harder to memorise data\n",
        "                        sgd=optimizer,  # callable to update weights\n",
        "                        losses=losses)\n",
        "                except Exception as e:\n",
        "                    pass\n",
        "\n",
        "            print(losses)"
      ],
      "metadata": {
        "id": "1ewLGE7O9HhG"
      },
      "execution_count": 7,
      "outputs": []
    },
    {
      "cell_type": "code",
      "source": [
        "train_model(train_data)"
      ],
      "metadata": {
        "colab": {
          "base_uri": "https://localhost:8080/"
        },
        "id": "CZoq8vHc9OVP",
        "outputId": "26f7b3c8-e7e7-4c81-fe8f-3595a0653b3d"
      },
      "execution_count": 8,
      "outputs": [
        {
          "output_type": "stream",
          "name": "stdout",
          "text": [
            "Statring iteration 0\n",
            "{}\n",
            "Statring iteration 1\n",
            "{}\n",
            "Statring iteration 2\n",
            "{}\n",
            "Statring iteration 3\n",
            "{}\n",
            "Statring iteration 4\n",
            "{}\n",
            "Statring iteration 5\n",
            "{}\n",
            "Statring iteration 6\n",
            "{}\n",
            "Statring iteration 7\n",
            "{}\n",
            "Statring iteration 8\n",
            "{}\n",
            "Statring iteration 9\n",
            "{}\n"
          ]
        }
      ]
    },
    {
      "cell_type": "code",
      "source": [
        "nlp.to_disk('nlp_model')"
      ],
      "metadata": {
        "id": "y2KwJZYY9nox"
      },
      "execution_count": 9,
      "outputs": []
    },
    {
      "cell_type": "code",
      "source": [
        "nlp_model = spacy.load('nlp_model')"
      ],
      "metadata": {
        "id": "zr0Hq6eH9siF"
      },
      "execution_count": 10,
      "outputs": []
    },
    {
      "cell_type": "code",
      "source": [
        "train_data[0][0]"
      ],
      "metadata": {
        "colab": {
          "base_uri": "https://localhost:8080/",
          "height": 163
        },
        "id": "kptqcwoM9wBP",
        "outputId": "4a6cad5f-3f40-4e38-cdde-0abba67ed1c7"
      },
      "execution_count": 11,
      "outputs": [
        {
          "output_type": "execute_result",
          "data": {
            "text/plain": [
              "'Govardhana K Senior Software Engineer  Bengaluru, Karnataka, Karnataka - Email me on Indeed: indeed.com/r/Govardhana-K/ b2de315d95905b68  Total IT experience 5 Years 6 Months Cloud Lending Solutions INC 4 Month • Salesforce Developer Oracle 5 Years 2 Month • Core Java Developer Languages Core Java, Go Lang Oracle PL-SQL programming, Sales Force Developer with APEX.  Designations & Promotions  Willing to relocate: Anywhere  WORK EXPERIENCE  Senior Software Engineer  Cloud Lending Solutions -  Bangalore, Karnataka -  January 2018 to Present  Present  Senior Consultant  Oracle -  Bangalore, Karnataka -  November 2016 to December 2017  Staff Consultant  Oracle -  Bangalore, Karnataka -  January 2014 to October 2016  Associate Consultant  Oracle -  Bangalore, Karnataka -  November 2012 to December 2013  EDUCATION  B.E in Computer Science Engineering  Adithya Institute of Technology -  Tamil Nadu  September 2008 to June 2012  https://www.indeed.com/r/Govardhana-K/b2de315d95905b68?isid=rex-download&ikw=download-top&co=IN https://www.indeed.com/r/Govardhana-K/b2de315d95905b68?isid=rex-download&ikw=download-top&co=IN   SKILLS  APEX. (Less than 1 year), Data Structures (3 years), FLEXCUBE (5 years), Oracle (5 years), Algorithms (3 years)  LINKS  https://www.linkedin.com/in/govardhana-k-61024944/  ADDITIONAL INFORMATION  Technical Proficiency:  Languages: Core Java, Go Lang, Data Structures & Algorithms, Oracle PL-SQL programming, Sales Force with APEX. Tools: RADTool, Jdeveloper, NetBeans, Eclipse, SQL developer, PL/SQL Developer, WinSCP, Putty Web Technologies: JavaScript, XML, HTML, Webservice  Operating Systems: Linux, Windows Version control system SVN & Git-Hub Databases: Oracle Middleware: Web logic, OC4J Product FLEXCUBE: Oracle FLEXCUBE Versions 10.x, 11.x and 12.x  https://www.linkedin.com/in/govardhana-k-61024944/'"
            ],
            "application/vnd.google.colaboratory.intrinsic+json": {
              "type": "string"
            }
          },
          "metadata": {},
          "execution_count": 11
        }
      ]
    },
    {
      "cell_type": "code",
      "source": [
        "import spacy"
      ],
      "metadata": {
        "id": "1Q9G4e58ayg4"
      },
      "execution_count": 3,
      "outputs": []
    },
    {
      "cell_type": "code",
      "source": [
        "nlp_model = spacy.load('en_core_web_sm')"
      ],
      "metadata": {
        "id": "UDq_Z6FIavGa"
      },
      "execution_count": 4,
      "outputs": []
    },
    {
      "cell_type": "code",
      "source": [
        "doc = nlp_model(train_data[0][0])\n",
        "for ent in doc.ents:\n",
        "    print(f'{ent.label_.upper():{30}}- {ent.text}')"
      ],
      "metadata": {
        "colab": {
          "base_uri": "https://localhost:8080/"
        },
        "id": "oJW0nncd9zrm",
        "outputId": "6c4afafa-1574-48d8-fc24-1ffabb1073d1"
      },
      "execution_count": 12,
      "outputs": [
        {
          "output_type": "stream",
          "name": "stdout",
          "text": [
            "PERSON                        - Govardhana K\n",
            "PERSON                        - Software Engineer\n",
            "GPE                           - Bengaluru\n",
            "GPE                           - Karnataka\n",
            "PERSON                        - Karnataka - Email\n",
            "PERSON                        - b2de315d95905b68\n",
            "DATE                          - 5 Years 6\n",
            "DATE                          - 4 Month\n",
            "PERSON                        - PL-SQL\n",
            "ORG                           - Designations & Promotions\n",
            "PERSON                        - Karnataka -  \n",
            "DATE                          - January 2018\n",
            "PERSON                        - Karnataka -  \n",
            "DATE                          - November 2016 to December 2017\n",
            "PERSON                        - Karnataka -  \n",
            "DATE                          - January 2014 to October 2016\n",
            "PERSON                        - Associate Consultant  Oracle -  Bangalore\n",
            "PERSON                        - Karnataka -  \n",
            "DATE                          - November 2012 to December 2013\n",
            "GPE                           - EDUCATION\n",
            "ORG                           - B.E in Computer Science Engineering  Adithya Institute of Technology -  \n",
            "PERSON                        - Tamil Nadu\n",
            "DATE                          - September 2008 to June 2012\n",
            "LOC                           - APEX\n",
            "DATE                          - Less than 1 year\n",
            "ORG                           - Data Structures\n",
            "DATE                          - 3 years\n",
            "DATE                          - 5 years\n",
            "ORG                           - Oracle (\n",
            "DATE                          - 5 years\n",
            "PERSON                        - Algorithms\n",
            "DATE                          - 3 years\n",
            "PERSON                        - Core Java\n",
            "ORG                           - Data Structures & Algorithms\n",
            "ORG                           - Oracle PL-SQL\n",
            "PERSON                        - Sales Force\n",
            "LOC                           - APEX\n",
            "GPE                           - Jdeveloper\n",
            "ORG                           - NetBeans\n",
            "PRODUCT                       - Eclipse\n",
            "ORG                           - SQL\n",
            "ORG                           - PL/SQL Developer\n",
            "PERSON                        - Putty Web Technologies\n",
            "ORG                           - JavaScript\n",
            "ORG                           - XML\n",
            "ORG                           - HTML\n",
            "ORG                           - Webservice\n",
            "GPE                           - Linux\n",
            "ORG                           - Windows Version\n",
            "ORG                           - SVN & Git-Hub Databases\n",
            "PERSON                        - OC4J Product\n",
            "ORG                           - Oracle FLEXCUBE Versions\n",
            "CARDINAL                      - 11.x\n",
            "CARDINAL                      - 12.x\n"
          ]
        }
      ]
    },
    {
      "cell_type": "code",
      "source": [
        "!pip install PyMuPDF"
      ],
      "metadata": {
        "colab": {
          "base_uri": "https://localhost:8080/"
        },
        "id": "V0uXLzyP-C2J",
        "outputId": "6e16d6ee-10a3-4023-9a2e-c341797a015b"
      },
      "execution_count": 16,
      "outputs": [
        {
          "output_type": "stream",
          "name": "stdout",
          "text": [
            "Collecting PyMuPDF\n",
            "  Downloading PyMuPDF-1.24.0-cp310-none-manylinux2014_x86_64.whl (3.9 MB)\n",
            "\u001b[2K     \u001b[90m━━━━━━━━━━━━━━━━━━━━━━━━━━━━━━━━━━━━━━━━\u001b[0m \u001b[32m3.9/3.9 MB\u001b[0m \u001b[31m22.3 MB/s\u001b[0m eta \u001b[36m0:00:00\u001b[0m\n",
            "\u001b[?25hCollecting PyMuPDFb==1.24.0 (from PyMuPDF)\n",
            "  Downloading PyMuPDFb-1.24.0-py3-none-manylinux2014_x86_64.manylinux_2_17_x86_64.whl (30.8 MB)\n",
            "\u001b[2K     \u001b[90m━━━━━━━━━━━━━━━━━━━━━━━━━━━━━━━━━━━━━━━━\u001b[0m \u001b[32m30.8/30.8 MB\u001b[0m \u001b[31m25.4 MB/s\u001b[0m eta \u001b[36m0:00:00\u001b[0m\n",
            "\u001b[?25hInstalling collected packages: PyMuPDFb, PyMuPDF\n",
            "Successfully installed PyMuPDF-1.24.0 PyMuPDFb-1.24.0\n"
          ]
        }
      ]
    },
    {
      "cell_type": "code",
      "source": [
        "import sys, fitz\n",
        "fname = 'Alice Clark CV.pdf'\n",
        "doc = fitz.open(fname)\n",
        "text = \"\"\n",
        "for page in doc:\n",
        "    text = text + str(page.get_text())\n",
        "\n",
        "tx = \" \".join(text.split('\\n'))\n",
        "print(tx)"
      ],
      "metadata": {
        "colab": {
          "base_uri": "https://localhost:8080/"
        },
        "id": "v-ls9HLD-Gy1",
        "outputId": "5692148f-7db3-427f-a21b-3cddda6393d7"
      },
      "execution_count": 17,
      "outputs": [
        {
          "output_type": "stream",
          "name": "stdout",
          "text": [
            "Alice Clark  AI / Machine Learning    Delhi, India Email me on Indeed  •  20+ years of experience in data handling, design, and development  •  Data Warehouse: Data analysis, star/snow flake scema data modelling and design specific to  data warehousing and business intelligence  •  Database: Experience in database designing, scalability, back-up and recovery, writing and  optimizing SQL code and Stored Procedures, creating functions, views, triggers and indexes.  Cloud platform: Worked on Microsoft Azure cloud services like Document DB, SQL Azure,  Stream Analytics, Event hub, Power BI, Web Job, Web App, Power BI, Azure data lake  analytics(U-SQL)  Willing to relocate anywhere    WORK EXPERIENCE  Software Engineer  Microsoft – Bangalore, Karnataka  January 2000 to Present  1. Microsoft Rewards Live dashboards:  Description: - Microsoft rewards is loyalty program that rewards Users for browsing and shopping  online. Microsoft Rewards members can earn points when searching with Bing, browsing with  Microsoft Edge and making purchases at the Xbox Store, the Windows Store and the Microsoft  Store. Plus, user can pick up bonus points for taking daily quizzes and tours on the Microsoft  rewards website. Rewards live dashboards gives a live picture of usage world-wide and by  markets like US, Canada, Australia, new user registration count, top/bottom performing rewards  offers, orders stats and weekly trends of user activities, orders and new user registrations. the  PBI tiles gets refreshed in different frequencies starting from 5 seconds to 30 minutes.  Technology/Tools used    EDUCATION  Indian Institute of Technology – Mumbai  2001    SKILLS  Machine Learning, Natural Language Processing, and Big Data Handling    ADDITIONAL INFORMATION  Professional Skills  • Excellent analytical, problem solving, communication, knowledge transfer and interpersonal  skills with ability to interact with individuals at all the levels  • Quick learner and maintains cordial relationship with project manager and team members and  good performer both in team and independent job environments  • Positive attitude towards superiors &amp; peers  • Supervised junior developers throughout project lifecycle and provided technical assistance  \n"
          ]
        }
      ]
    },
    {
      "cell_type": "code",
      "source": [
        "doc = nlp_model(tx)\n",
        "for ent in doc.ents:\n",
        "    print(f'{ent.label_.upper():{30}}- {ent.text}')"
      ],
      "metadata": {
        "colab": {
          "base_uri": "https://localhost:8080/"
        },
        "id": "u0p1rhBZ-u00",
        "outputId": "18394cb2-6d70-43d7-f922-85f42a7b259a"
      },
      "execution_count": 18,
      "outputs": [
        {
          "output_type": "stream",
          "name": "stdout",
          "text": [
            "PERSON                        - Alice Clark\n",
            "ORG                           - AI / Machine Learning\n",
            "GPE                           - Delhi\n",
            "GPE                           - India\n",
            "DATE                          - 20+ years\n",
            "ORG                           - SQL\n",
            "PERSON                        - Stored Procedures\n",
            "ORG                           - Microsoft\n",
            "PERSON                        - Document DB\n",
            "ORG                           - SQL Azure\n",
            "ORG                           - Stream Analytics\n",
            "ORG                           - Power BI\n",
            "GPE                           - Web Job\n",
            "ORG                           - Software Engineer\n",
            "ORG                           - Microsoft\n",
            "GPE                           - Karnataka\n",
            "DATE                          - January 2000\n",
            "CARDINAL                      - 1\n",
            "ORG                           - Microsoft\n",
            "ORG                           - Microsoft\n",
            "ORG                           - Microsoft Rewards\n",
            "ORG                           - Bing\n",
            "ORG                           - Microsoft Edge\n",
            "FAC                           - the Xbox Store\n",
            "ORG                           - Microsoft\n",
            "ORG                           - Microsoft\n",
            "GPE                           - US\n",
            "GPE                           - Canada\n",
            "GPE                           - Australia\n",
            "DATE                          - weekly\n",
            "TIME                          - 5 seconds to 30 minutes\n",
            "ORG                           - Technology/Tools\n",
            "ORG                           - Indian Institute of Technology\n",
            "GPE                           - Mumbai\n",
            "DATE                          - 2001\n",
            "PRODUCT                       - • Quick\n",
            "PRODUCT                       - • Positive\n",
            "PRODUCT                       - • Supervised\n"
          ]
        }
      ]
    },
    {
      "cell_type": "code",
      "source": [
        "import sys, fitz\n",
        "fname = 'Smith Resume.pdf'\n",
        "doc = fitz.open(fname)\n",
        "text = \"\"\n",
        "for page in doc:\n",
        "    text = text + str(page.get_text())\n",
        "\n",
        "tx = \" \".join(text.split('\\n'))\n",
        "print(tx)"
      ],
      "metadata": {
        "colab": {
          "base_uri": "https://localhost:8080/"
        },
        "id": "i-OGH7_Ubr6T",
        "outputId": "44563d9a-2aef-4c2a-eda8-246a56350e08"
      },
      "execution_count": 19,
      "outputs": [
        {
          "output_type": "stream",
          "name": "stdout",
          "text": [
            "Michael Smith  BI / Big Data/ Azure  Manchester, UK- Email me on Indeed: indeed.com/r/falicent/140749dace5dc26f    10+ years of Experience in Designing, Development, Administration, Analysis,  Management  inthe  Business  Intelligence  Data  warehousing,  Client  Server  Technologies, Web-based Applications, cloud solutions and Databases.  Data warehouse: Data analysis, star/ snow flake schema data modeling and design  specific todata warehousing and business intelligence environment.  Database: Experience in database designing, scalability, back-up and recovery,  writing andoptimizing SQL code and Stored Procedures, creating functions, views,  triggers and indexes.   Cloud platform: Worked on Microsoft Azure cloud services like Document DB, SQL  Azure, StreamAnalytics, Event hub, Power BI, Web Job, Web App, Power BI, Azure  data lake analytics(U-SQL).  Big Data: Worked Azure data lake store/analytics for big data processing and Azure  data factoryto schedule U-SQL jobs. Designed and developed end to end big data  solution for data insights.     Willing to relocate: Anywhere  WORK EXPERIENCESoftware Engineer  Microsoft - Manchester, UK.  December 2015 to Present  1. Microsoft Rewards Live dashboards:  Description: - Microsoft rewards is loyalty program that rewards Users for  browsing and shopping online. Microsoft Rewards members can earn points when  searching with Bing, browsing with Microsoft Edge and making purchases at the  Xbox Store, the Windows Store and the Microsoft Store. Plus, user can pick up  bonus points for taking daily quizzes and tours on the Microsoft rewards website.  Rewards live dashboards gives a live picture of usage world-wide and by markets  like US, Canada, Australia, new user registration count, top/bottom performing  rewards offers, orders stats and weekly trends of user activities, orders and new  user registrations. the PBI tiles gets refreshed in different frequencies starting  from 5 seconds to 30 minutes.  Technology/Tools used  Event hub, stream analytics and Power BI.  Responsibilities  Created stream analytics jobs to process event hub data  Created Power BI live dashboard to show live usage traffic, weekly trends, cards,  charts to showtop/bottom 10 offers and usage metrics.  2. Microsoft Rewards Data Insights:  Description: - Microsoft rewards is loyalty program that rewards Users for  browsing and shopping online. Microsoft Rewards members can earn points when  searching with Bing, browsing with Microsoft Edge and making purchases at the  Xbox Store, the Windows Store and the Microsoft Store. Plus, user can pick up  bonus points for taking daily quizzes and tours on the Microsoft rewards website.  Rewards data insights is data analytics and reporting platform, processes 20  million users daily activities and redemption across different markets like US,  Canada, Australia.  Technology/Tools used  Cosmos (Microsoft big-data platform), c#, X-flow job monitoring, Power BI.  Responsibilities  Created big data scripts in cosmos  C# data extractors, processors and reducers for data transformation  Power BI dashboards  3. End to end tracking Tool:  Description: - This is real-time Tracking tool to track different business  transactions like order, order response, functional acknowledgement, invoice  flowing inside ICOE. It gives flexibility to customers to track their transactions  and appropriate error information in-case of any failure. Based on resource based  access control the tool gives flexibility to end user to perform different actions  like view transactions, search based on different filter criteria and view and  download actual message payload. End to end tracking tool stitches all the  business transaction like order to cash flow and connects different hops inside  ICOE like gateway, routing server, Processing server. It also connects different  systems like ICOE, partner end point and SAP.  Technology/Tools used  Azure Document db, Azure web job and Web APP, RBAC, Angular JS.  Responsibilities  Document dB stored procedures.  Web job to process event hub data and populate Document db• Web App API.  Stream analytics job to transform data  Power BI reports  4. Biztrack Tracking Tool:  Description: - This is real-time Tracking tool to track different business  transactions like order, order response, functional acknowledgement, invoice  flowing inside ICOE. It gives flexibility to customers to track their transactions  and appropriate error information in-case of any failure. Based on resource based  access control the tool gives flexibility to end user to perform different actions  like view transactions, search based on different filter criteria and view and  download actual message payload.  Technology/Tools used  SQL server 2014, SSIS, .net API, Angular JS.  Responsibilities  ETL solution to transform business transactions data stored in Biztalk tables.  SQL azure tables, stored procedures, User defined functions.  Performance tuning.  Web API enhancements.    EDUCATION  The University of Manchester - UK  2007    SKILLS  problem solving (Less than 1 year), project lifecycle (Less than 1 year), project  manager (Less than 1 year), technical assistance. (Less than 1 year)  ADDITIONAL INFORMATION  Professional Skills  Excellent analytical, problem solving, communication, knowledge transfer and  interpersonalskills with ability to interact with individuals at all the levels  Quick learner and maintains cordial relationship with project manager and team  members andgood performer both in team and independent job environments  Positive attitude towards superiors &amp; peers  Supervised junior developers throughout project lifecycle and provided technical  assistance.  \n"
          ]
        }
      ]
    },
    {
      "cell_type": "code",
      "source": [
        "doc = nlp_model(tx)\n",
        "for ent in doc.ents:\n",
        "    print(f'{ent.label_.upper():{30}}- {ent.text}')"
      ],
      "metadata": {
        "colab": {
          "base_uri": "https://localhost:8080/"
        },
        "id": "LqkCwVfob0t4",
        "outputId": "350f0082-748b-46f4-cb05-bccebe2bcf9b"
      },
      "execution_count": 20,
      "outputs": [
        {
          "output_type": "stream",
          "name": "stdout",
          "text": [
            "PERSON                        - Michael Smith\n",
            "ORG                           - BI / Big Data/\n",
            "ORG                           - Manchester\n",
            "ORG                           - Designing, Development, Administration\n",
            "GPE                           - Client\n",
            "ORG                           - Server  Technologies\n",
            "ORG                           - Applications\n",
            "ORG                           - SQL\n",
            "PERSON                        - Stored Procedures\n",
            "ORG                           - Microsoft\n",
            "PERSON                        - Document DB\n",
            "ORG                           - SQL  Azure\n",
            "NORP                          - StreamAnalytics\n",
            "ORG                           - Power BI\n",
            "GPE                           - Web Job\n",
            "ORG                           - U-SQL\n",
            "ORG                           - Microsoft - Manchester\n",
            "GPE                           - UK\n",
            "DATE                          - December 2015\n",
            "CARDINAL                      - 1\n",
            "ORG                           - Microsoft\n",
            "ORG                           - Microsoft\n",
            "ORG                           - Microsoft Rewards\n",
            "ORG                           - Bing\n",
            "ORG                           - Microsoft Edge\n",
            "PRODUCT                       - Xbox Store\n",
            "ORG                           - the Microsoft Store\n",
            "ORG                           - Microsoft\n",
            "NORP                          - Rewards\n",
            "GPE                           - US\n",
            "GPE                           - Canada\n",
            "GPE                           - Australia\n",
            "DATE                          - weekly\n",
            "TIME                          - 5 seconds to 30 minutes\n",
            "ORG                           - Technology/Tools\n",
            "ORG                           - Power BI\n",
            "ORG                           - Responsibilities  Created\n",
            "ORG                           - Created Power BI\n",
            "DATE                          - weekly\n",
            "CARDINAL                      - 10\n",
            "CARDINAL                      - 2\n",
            "ORG                           - Microsoft\n",
            "ORG                           - Microsoft\n",
            "ORG                           - Microsoft Rewards\n",
            "ORG                           - Bing\n",
            "ORG                           - Microsoft Edge\n",
            "PRODUCT                       - Xbox Store\n",
            "ORG                           - the Microsoft Store\n",
            "ORG                           - Microsoft\n",
            "CARDINAL                      - 20  million\n",
            "DATE                          - daily\n",
            "GPE                           - US\n",
            "GPE                           - Canada\n",
            "GPE                           - Australia\n",
            "ORG                           - Technology/Tools\n",
            "PERSON                        - Cosmos\n",
            "ORG                           - Microsoft\n",
            "CARDINAL                      - #\n",
            "ORG                           - Power BI\n",
            "CARDINAL                      - #\n",
            "ORG                           - Power BI\n",
            "CARDINAL                      - 3\n",
            "ORG                           - SAP\n",
            "WORK_OF_ART                   - Azure Document db, Azure\n",
            "ORG                           - RBAC\n",
            "FAC                           - Document\n",
            "EVENT                         - Web App API\n",
            "GPE                           - Stream\n",
            "ORG                           - Power BI\n",
            "CARDINAL                      - 4\n",
            "ORG                           - Technology/Tools\n",
            "ORG                           - SQL\n",
            "DATE                          - 2014\n",
            "ORG                           - SSIS\n",
            "ORG                           - SQL\n",
            "ORG                           - The University of Manchester - UK\n",
            "DATE                          - 2007\n",
            "DATE                          - Less than 1 year\n",
            "DATE                          - Less than 1 year\n",
            "DATE                          - Less than 1 year\n",
            "DATE                          - Less than 1 year\n",
            "ORG                           - Professional Skills  Excellent\n"
          ]
        }
      ]
    },
    {
      "cell_type": "code",
      "source": [
        "import spacy\n",
        "import re\n",
        "import pandas as pd\n",
        "from sklearn.feature_extraction.text import CountVectorizer\n",
        "from sklearn.neural_network import MLPClassifier\n",
        "from sklearn.pipeline import make_pipeline\n",
        "import csv\n",
        "\n",
        "# Load spaCy NER model\n",
        "nlp = spacy.load(\"en_core_web_sm\")\n",
        "\n",
        "# Sample resumes\n",
        "resumes = [\n",
        "    \"John Doe\\nEmail: john.doe@example.com\\nPhone: 123-456-7890\\nSkills: Python, Machine Learning\",\n",
        "    \"Jane Smith\\nEmail: jane.smith@example.com\\nPhone: 987-654-3210\\nExperience: Data Analyst\",\n",
        "    \"Alice Johnson\\nEmail: alice.johnson@example.com\\nPhone: 111-222-3333\\nSkills: Java, C++\"\n",
        "]\n",
        "\n",
        "# Initialize lists to store extracted information\n",
        "names = []\n",
        "emails = []\n",
        "\n",
        "# Extract names and emails using spaCy\n",
        "for resume in resumes:\n",
        "    doc = nlp(resume)\n",
        "\n",
        "    name = None\n",
        "    email = None\n",
        "\n",
        "    for ent in doc.ents:\n",
        "        if ent.label_ == \"PERSON\":\n",
        "            name = ent.text\n",
        "        elif ent.label_ == \"EMAIL\":\n",
        "            email = ent.text\n",
        "\n",
        "    names.append(name)\n",
        "    emails.append(email)\n",
        "\n",
        "# Prepare data for ANN model\n",
        "data = pd.DataFrame({\n",
        "    \"Name\": names,\n",
        "    \"Email\": emails\n",
        "})\n",
        "\n",
        "X = data[\"Name\"].fillna(\"\").astype(str) + \" \" + data[\"Email\"].fillna(\"\").astype(str)\n",
        "y = data[\"Email\"].notnull().astype(int)\n",
        "\n",
        "# Create pipeline with CountVectorizer and MLPClassifier\n",
        "pipeline = make_pipeline(\n",
        "    CountVectorizer(),\n",
        "    MLPClassifier(hidden_layer_sizes=(50,), max_iter=100, alpha=1e-4, solver=\"sgd\", verbose=10, random_state=1, learning_rate_init=.1)\n",
        ")\n",
        "\n",
        "# Train ANN model\n",
        "pipeline.fit(X, y)\n",
        "\n",
        "# Test the model\n",
        "test_resumes = [\n",
        "    \"John Doe\\nEmail: john.doe@example.com\\nPhone: 123-456-7890\\nSkills: Python, Machine Learning\",\n",
        "    \"Jane Smith\\nEmail: jane.smith@example.com\\nPhone: 987-654-3210\\nExperience: Data Analyst\",\n",
        "    \"Alice Johnson\\nEmail: alice.johnson@example.com\\nPhone: 111-222-3333\\nSkills: Java, C++\"\n",
        "]\n",
        "\n",
        "test_names = []\n",
        "test_emails = []\n",
        "\n",
        "for resume in test_resumes:\n",
        "    doc = nlp(resume)\n",
        "\n",
        "    name = None\n",
        "    email = None\n",
        "\n",
        "    for ent in doc.ents:\n",
        "        if ent.label_ == \"PERSON\":\n",
        "            name = ent.text\n",
        "        elif ent.label_ == \"EMAIL\":\n",
        "            email = ent.text\n",
        "\n",
        "    test_names.append(name)\n",
        "    test_emails.append(email)\n",
        "\n",
        "test_data = pd.DataFrame({\n",
        "    \"Name\": test_names,\n",
        "    \"Email\": test_emails\n",
        "})\n",
        "\n",
        "test_X = test_data[\"Name\"].fillna(\"\").astype(str) + \" \" + test_data[\"Email\"].fillna(\"\").astype(str)\n",
        "\n",
        "predictions = pipeline.predict(test_X)\n",
        "\n",
        "# Print test results\n",
        "for i, resume in enumerate(test_resumes):\n",
        "    print(f\"Resume:\\n{resume}\\nPredicted Email: {'Yes' if predictions[i] == 1 else 'No'}\\n\")"
      ],
      "metadata": {
        "colab": {
          "base_uri": "https://localhost:8080/"
        },
        "id": "b2oQZ37RcZUo",
        "outputId": "897ed432-ee83-482b-92bb-96fcc607daba"
      },
      "execution_count": 21,
      "outputs": [
        {
          "output_type": "stream",
          "name": "stdout",
          "text": [
            "Iteration 1, loss = 0.87070568\n",
            "Iteration 2, loss = 0.61645482\n",
            "Iteration 3, loss = 0.38656675\n",
            "Iteration 4, loss = 0.22226708\n",
            "Iteration 5, loss = 0.12218620\n",
            "Iteration 6, loss = 0.06666814\n",
            "Iteration 7, loss = 0.03690494\n",
            "Iteration 8, loss = 0.02104933\n",
            "Iteration 9, loss = 0.01240359\n",
            "Iteration 10, loss = 0.00759648\n",
            "Iteration 11, loss = 0.00484842\n",
            "Iteration 12, loss = 0.00323108\n",
            "Iteration 13, loss = 0.00225465\n",
            "Iteration 14, loss = 0.00164850\n",
            "Iteration 15, loss = 0.00126129\n",
            "Iteration 16, loss = 0.00100836\n",
            "Iteration 17, loss = 0.00083918\n",
            "Iteration 18, loss = 0.00072350\n",
            "Iteration 19, loss = 0.00064280\n",
            "Iteration 20, loss = 0.00058532\n",
            "Iteration 21, loss = 0.00054374\n",
            "Iteration 22, loss = 0.00051327\n",
            "Iteration 23, loss = 0.00049063\n",
            "Iteration 24, loss = 0.00047360\n",
            "Iteration 25, loss = 0.00046064\n",
            "Iteration 26, loss = 0.00045067\n",
            "Iteration 27, loss = 0.00044294\n",
            "Iteration 28, loss = 0.00043689\n",
            "Iteration 29, loss = 0.00043211\n",
            "Training loss did not improve more than tol=0.000100 for 10 consecutive epochs. Stopping.\n",
            "Resume:\n",
            "John Doe\n",
            "Email: john.doe@example.com\n",
            "Phone: 123-456-7890\n",
            "Skills: Python, Machine Learning\n",
            "Predicted Email: No\n",
            "\n",
            "Resume:\n",
            "Jane Smith\n",
            "Email: jane.smith@example.com\n",
            "Phone: 987-654-3210\n",
            "Experience: Data Analyst\n",
            "Predicted Email: No\n",
            "\n",
            "Resume:\n",
            "Alice Johnson\n",
            "Email: alice.johnson@example.com\n",
            "Phone: 111-222-3333\n",
            "Skills: Java, C++\n",
            "Predicted Email: No\n",
            "\n"
          ]
        }
      ]
    }
  ]
}